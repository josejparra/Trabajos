{
  "nbformat": 4,
  "nbformat_minor": 0,
  "metadata": {
    "colab": {
      "name": "Scrapping AHM.ipynb",
      "provenance": [],
      "collapsed_sections": []
    },
    "kernelspec": {
      "display_name": "Python 3",
      "name": "python3"
    }
  },
  "cells": [
    {
      "cell_type": "code",
      "metadata": {
        "id": "BohbXBbHBUV7",
        "colab": {
          "base_uri": "https://localhost:8080/"
        },
        "outputId": "1425cd32-df3b-4682-ff24-3913403dc9ab"
      },
      "source": [
        "!pip install beautifulsoup4\n",
        "!pip install js2xml\n",
        "!pip install img2pdf\n"
      ],
      "execution_count": null,
      "outputs": [
        {
          "output_type": "stream",
          "text": [
            "Requirement already satisfied: beautifulsoup4 in /usr/local/lib/python3.6/dist-packages (4.6.3)\n",
            "Collecting js2xml\n",
            "  Downloading https://files.pythonhosted.org/packages/d2/c4/892148a06014cd558c6f55fd1cf617b11babef46fccb542b564491af5cec/js2xml-0.4.0-py2.py3-none-any.whl\n",
            "Collecting calmjs.parse\n",
            "\u001b[?25l  Downloading https://files.pythonhosted.org/packages/15/9d/63d6125d7b238f9d234edc025985d8a3cec66bfeda754186e702ad5e8641/calmjs.parse-1.2.5-py3-none-any.whl (272kB)\n",
            "\u001b[K     |████████████████████████████████| 276kB 4.1MB/s \n",
            "\u001b[?25hRequirement already satisfied: six in /usr/local/lib/python3.6/dist-packages (from js2xml) (1.15.0)\n",
            "Requirement already satisfied: lxml in /usr/local/lib/python3.6/dist-packages (from js2xml) (4.2.6)\n",
            "Collecting ply>=3.6\n",
            "\u001b[?25l  Downloading https://files.pythonhosted.org/packages/a3/58/35da89ee790598a0700ea49b2a66594140f44dec458c07e8e3d4979137fc/ply-3.11-py2.py3-none-any.whl (49kB)\n",
            "\u001b[K     |████████████████████████████████| 51kB 4.6MB/s \n",
            "\u001b[?25hRequirement already satisfied: setuptools in /usr/local/lib/python3.6/dist-packages (from calmjs.parse->js2xml) (53.0.0)\n",
            "Installing collected packages: ply, calmjs.parse, js2xml\n",
            "Successfully installed calmjs.parse-1.2.5 js2xml-0.4.0 ply-3.11\n",
            "Collecting img2pdf\n",
            "\u001b[?25l  Downloading https://files.pythonhosted.org/packages/80/ed/5167992abaf268f5a5867e974d9d36a8fa4802800898ec711f4e1942b4f5/img2pdf-0.4.0.tar.gz (107kB)\n",
            "\u001b[K     |████████████████████████████████| 112kB 4.2MB/s \n",
            "\u001b[?25hRequirement already satisfied: Pillow in /usr/local/lib/python3.6/dist-packages (from img2pdf) (7.0.0)\n",
            "Collecting pikepdf\n",
            "\u001b[?25l  Downloading https://files.pythonhosted.org/packages/24/38/6c548a95e34aed75764b2291f4dc0c464ea8db65bb8793299569789b6889/pikepdf-2.5.2-cp36-cp36m-manylinux2010_x86_64.whl (2.0MB)\n",
            "\u001b[K     |████████████████████████████████| 2.0MB 7.0MB/s \n",
            "\u001b[?25hRequirement already satisfied: lxml>=4.0 in /usr/local/lib/python3.6/dist-packages (from pikepdf->img2pdf) (4.2.6)\n",
            "Building wheels for collected packages: img2pdf\n",
            "  Building wheel for img2pdf (setup.py) ... \u001b[?25l\u001b[?25hdone\n",
            "  Created wheel for img2pdf: filename=img2pdf-0.4.0-cp36-none-any.whl size=40503 sha256=ed89fe9fede3ee5943391aa86192d9e91950b92125db56c4e720755103dc6b2c\n",
            "  Stored in directory: /root/.cache/pip/wheels/90/f5/7f/b88a76bac33669118e7549f4856bbe975a3ad2e59280c59196\n",
            "Successfully built img2pdf\n",
            "Installing collected packages: pikepdf, img2pdf\n",
            "Successfully installed img2pdf-0.4.0 pikepdf-2.5.2\n"
          ],
          "name": "stdout"
        }
      ]
    },
    {
      "cell_type": "code",
      "metadata": {
        "id": "kExlDIhWWVVJ"
      },
      "source": [
        "from bs4 import BeautifulSoup\n",
        "from urllib.request import urlopen\n",
        "import requests\n",
        "import re\n",
        "import img2pdf"
      ],
      "execution_count": null,
      "outputs": []
    },
    {
      "cell_type": "code",
      "metadata": {
        "id": "LsJsjo7sBzl2"
      },
      "source": [
        "def image_to_pdf(url,pdf_name):\n",
        "#This function takes an url from a digital file in the Archivo histórico de Medellín and save it as a pdf.\n",
        "#Extracts urls from web page.\n",
        "  html_page = urlopen(url)\n",
        "  soup = BeautifulSoup(html_page, 'html.parser')\n",
        "  x=soup.findAll(name=\"script\")#Get all script tags (the page has a javascript app).\n",
        "  values = re.findall(r'jzd_pages..*?=\\s*(.*?);', str(x), re.DOTALL | re.MULTILINE)[0]#Get the matrix with images extensions\n",
        "  x2=values.split('Array(')[1].split(')')[0]\n",
        "  semi_url=[x2.replace('\"', '') for x2 in x2.split(\",\")]#Get the images extensions clean.\n",
        "#Getting the pieces of the urls.\n",
        "  dir=re.findall('(?<=jzd_current_print_image\\(\\)).*?(?=jzd_current_image)', str(x), re.DOTALL | re.MULTILINE)[0]#Entire url from a function without matrix extensions.\n",
        "  dir_sub1=re.findall(\"(?<=Documentos/).*?(?=\\'\\s*\\+)\",dir)[0]#First part of the url.\n",
        "  dir_sub2=re.findall(\"(?<=\\+\\s\\').*?(?=\\'\\s*\\+)\",dir)[0]\n",
        "  dir_sub3=re.findall(\"(?<=\\+\\s\\').*(?=\\';)\",dir)[0]\n",
        "  urls_list=[]\n",
        "  for index,value in enumerate(semi_url):\n",
        "    #Build the url.\n",
        "    urls_list.append(\"https://ahmedellin.janium.net/janium/Documentos/{}{}{}{}\".format(dir_sub1,dir_sub2,semi_url[index],dir_sub3))\n",
        "#Download the images.\n",
        "  imgs_pdf=[]\n",
        "  for img in urls_list:\n",
        "    file_name = img.split('/')[-1]#Get only the names\n",
        "    imgs_pdf.append(str(file_name))#Save them on a vector\n",
        "    r = requests.get(img, stream=True)#Download files.\n",
        "    with open(file_name, 'wb') as f:\n",
        "     #open the files and save them. \n",
        "      for chunk in r:\n",
        "        f.write(chunk)\n",
        "#Save as pdf using img2pdf library.\n",
        "  with open(pdf_name,\"wb\") as f:\n",
        "\t  f.write(img2pdf.convert(imgs_pdf))\n",
        "\n"
      ],
      "execution_count": null,
      "outputs": []
    },
    {
      "cell_type": "code",
      "metadata": {
        "id": "sYXas1iejMJ2"
      },
      "source": [
        "image_to_pdf(\"https://ahmedellin.janium.net/janium-bin/janium_zui.pl?fn=400782&jzd=/janium/Documentos/AP/400782/d.jzd\",\"Censo (1851).pdf\")\n"
      ],
      "execution_count": null,
      "outputs": []
    }
  ]
}