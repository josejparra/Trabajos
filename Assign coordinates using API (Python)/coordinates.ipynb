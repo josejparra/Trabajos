{
  "nbformat": 4,
  "nbformat_minor": 0,
  "metadata": {
    "colab": {
      "name": "coordinates.ipynb",
      "provenance": []
    },
    "kernelspec": {
      "name": "python3",
      "display_name": "Python 3"
    }
  },
  "cells": [
    {
      "cell_type": "code",
      "metadata": {
        "colab": {
          "base_uri": "https://localhost:8080/"
        },
        "id": "QzNcQg69a65s",
        "outputId": "019ff6e4-f178-4d18-b21b-a2695f025b91"
      },
      "source": [
        "!pip install opencage\n",
        "\n",
        "from opencage.geocoder import OpenCageGeocode\n",
        "import pandas as pd\n",
        "from google.colab import files"
      ],
      "execution_count": null,
      "outputs": [
        {
          "output_type": "stream",
          "text": [
            "Collecting opencage\n",
            "  Downloading https://files.pythonhosted.org/packages/44/56/e912b950ab7b05902c08ebc3eb6c6e22f40ca2657194e04fc205a9d793e7/opencage-1.2.2-py3-none-any.whl\n",
            "Collecting pyopenssl>=0.15.1\n",
            "\u001b[?25l  Downloading https://files.pythonhosted.org/packages/b2/5e/06351ede29fd4899782ad335c2e02f1f862a887c20a3541f17c3fa1a3525/pyOpenSSL-20.0.1-py2.py3-none-any.whl (54kB)\n",
            "\r\u001b[K     |██████                          | 10kB 9.9MB/s eta 0:00:01\r\u001b[K     |████████████▏                   | 20kB 5.7MB/s eta 0:00:01\r\u001b[K     |██████████████████▏             | 30kB 5.5MB/s eta 0:00:01\r\u001b[K     |████████████████████████▎       | 40kB 5.6MB/s eta 0:00:01\r\u001b[K     |██████████████████████████████▎ | 51kB 3.8MB/s eta 0:00:01\r\u001b[K     |████████████████████████████████| 61kB 3.0MB/s \n",
            "\u001b[?25hRequirement already satisfied: Requests>=2.2.0 in /usr/local/lib/python3.6/dist-packages (from opencage) (2.23.0)\n",
            "Requirement already satisfied: six>=1.4.0 in /usr/local/lib/python3.6/dist-packages (from opencage) (1.15.0)\n",
            "Collecting backoff>=1.10.0\n",
            "  Downloading https://files.pythonhosted.org/packages/f0/32/c5dd4f4b0746e9ec05ace2a5045c1fc375ae67ee94355344ad6c7005fd87/backoff-1.10.0-py2.py3-none-any.whl\n",
            "Collecting cryptography>=3.2\n",
            "\u001b[?25l  Downloading https://files.pythonhosted.org/packages/c9/de/7054df0620b5411ba45480f0261e1fb66a53f3db31b28e3aa52c026e72d9/cryptography-3.3.1-cp36-abi3-manylinux2010_x86_64.whl (2.6MB)\n",
            "\u001b[K     |████████████████████████████████| 2.6MB 6.6MB/s \n",
            "\u001b[?25hRequirement already satisfied: idna<3,>=2.5 in /usr/local/lib/python3.6/dist-packages (from Requests>=2.2.0->opencage) (2.10)\n",
            "Requirement already satisfied: chardet<4,>=3.0.2 in /usr/local/lib/python3.6/dist-packages (from Requests>=2.2.0->opencage) (3.0.4)\n",
            "Requirement already satisfied: urllib3!=1.25.0,!=1.25.1,<1.26,>=1.21.1 in /usr/local/lib/python3.6/dist-packages (from Requests>=2.2.0->opencage) (1.24.3)\n",
            "Requirement already satisfied: certifi>=2017.4.17 in /usr/local/lib/python3.6/dist-packages (from Requests>=2.2.0->opencage) (2020.12.5)\n",
            "Requirement already satisfied: cffi>=1.12 in /usr/local/lib/python3.6/dist-packages (from cryptography>=3.2->pyopenssl>=0.15.1->opencage) (1.14.4)\n",
            "Requirement already satisfied: pycparser in /usr/local/lib/python3.6/dist-packages (from cffi>=1.12->cryptography>=3.2->pyopenssl>=0.15.1->opencage) (2.20)\n",
            "Installing collected packages: cryptography, pyopenssl, backoff, opencage\n",
            "Successfully installed backoff-1.10.0 cryptography-3.3.1 opencage-1.2.2 pyopenssl-20.0.1\n"
          ],
          "name": "stdout"
        }
      ]
    },
    {
      "cell_type": "code",
      "metadata": {
        "colab": {
          "base_uri": "https://localhost:8080/"
        },
        "id": "jj0ROGIiUKn2",
        "outputId": "f1ac8cfb-cef8-4995-ff16-bcad31bb5672"
      },
      "source": [
        "#Read data.\n",
        "\n",
        "individuos=pd.read_stata(\"https://github.com/josejparra/Diplomado-UNAL/raw/main/DataCleanStep53.dta\")\n",
        "firmas=pd.read_excel(\"https://github.com/josejparra/Diplomado-UNAL/raw/main/Firm_data_Industry%20(1).xlsx\")"
      ],
      "execution_count": null,
      "outputs": [
        {
          "output_type": "stream",
          "text": [
            "/usr/local/lib/python3.6/dist-packages/pandas/io/stata.py:1434: UnicodeWarning: \n",
            "One or more strings in the dta file could not be decoded using utf-8, and\n",
            "so the fallback encoding of latin-1 is being used.  This can happen when a file\n",
            "has been incorrectly encoded by Stata or some other software. You should verify\n",
            "the string values returned are correct.\n",
            "  warnings.warn(msg, UnicodeWarning)\n"
          ],
          "name": "stderr"
        }
      ]
    },
    {
      "cell_type": "code",
      "metadata": {
        "id": "mxsCWa43UqzV"
      },
      "source": [
        "#Select columns and select unique locations.\n",
        "\n",
        "city_ind1=individuos[\"df4df3city\"]\n",
        "city_ind2=individuos[\"df5city\"]\n",
        "city_firm=firmas[\"Ubicación\"]\n",
        "\n",
        "frames=[city_ind1,city_ind2,city_firm]\n",
        "cities_total=pd.concat(frames)\n",
        "cities=pd.Series(pd.unique(cities_total))"
      ],
      "execution_count": null,
      "outputs": []
    },
    {
      "cell_type": "code",
      "metadata": {
        "id": "uFo2BwX-t74l"
      },
      "source": [
        "list_lat = []   # create empty lists.\n",
        "list_long = []\n",
        "\n",
        "geocoder = OpenCageGeocode(\"243698b82b8b412aae7273007e042153\")#Key is obtained from https://opencagedata.com\n",
        "\n",
        "for index, value in cities.iteritems(): # iterate over values on a series.\n",
        "\n",
        "    query = str(value)+\", \"+str(\"Colombia\")\n",
        "    results = geocoder.geocode(query)   \n",
        "    lat = results[0]['geometry']['lat']\n",
        "    long = results[0]['geometry']['lng']\n",
        "    list_lat.append(lat)\n",
        "    list_long.append(long)    "
      ],
      "execution_count": null,
      "outputs": []
    },
    {
      "cell_type": "code",
      "metadata": {
        "colab": {
          "base_uri": "https://localhost:8080/",
          "height": 17
        },
        "id": "CtHxYhLruFOx",
        "outputId": "71b9158a-cec2-4e75-c52b-9371cc13913c"
      },
      "source": [
        "coord=pd.DataFrame({\"cities\":cities,\"long\":list_long,\"lat\":list_lat})\n",
        "\n",
        "coord.to_csv('coord.csv',encoding=\"latin-1\")\n",
        "files.download('coord.csv')\n"
      ],
      "execution_count": null,
      "outputs": [
        {
          "output_type": "display_data",
          "data": {
            "application/javascript": [
              "\n",
              "    async function download(id, filename, size) {\n",
              "      if (!google.colab.kernel.accessAllowed) {\n",
              "        return;\n",
              "      }\n",
              "      const div = document.createElement('div');\n",
              "      const label = document.createElement('label');\n",
              "      label.textContent = `Downloading \"${filename}\": `;\n",
              "      div.appendChild(label);\n",
              "      const progress = document.createElement('progress');\n",
              "      progress.max = size;\n",
              "      div.appendChild(progress);\n",
              "      document.body.appendChild(div);\n",
              "\n",
              "      const buffers = [];\n",
              "      let downloaded = 0;\n",
              "\n",
              "      const channel = await google.colab.kernel.comms.open(id);\n",
              "      // Send a message to notify the kernel that we're ready.\n",
              "      channel.send({})\n",
              "\n",
              "      for await (const message of channel.messages) {\n",
              "        // Send a message to notify the kernel that we're ready.\n",
              "        channel.send({})\n",
              "        if (message.buffers) {\n",
              "          for (const buffer of message.buffers) {\n",
              "            buffers.push(buffer);\n",
              "            downloaded += buffer.byteLength;\n",
              "            progress.value = downloaded;\n",
              "          }\n",
              "        }\n",
              "      }\n",
              "      const blob = new Blob(buffers, {type: 'application/binary'});\n",
              "      const a = document.createElement('a');\n",
              "      a.href = window.URL.createObjectURL(blob);\n",
              "      a.download = filename;\n",
              "      div.appendChild(a);\n",
              "      a.click();\n",
              "      div.remove();\n",
              "    }\n",
              "  "
            ],
            "text/plain": [
              "<IPython.core.display.Javascript object>"
            ]
          },
          "metadata": {
            "tags": []
          }
        },
        {
          "output_type": "display_data",
          "data": {
            "application/javascript": [
              "download(\"download_1cbc475a-dd86-4b3f-8174-1c62703b581a\", \"coord.csv\", 3438)"
            ],
            "text/plain": [
              "<IPython.core.display.Javascript object>"
            ]
          },
          "metadata": {
            "tags": []
          }
        }
      ]
    },
    {
      "cell_type": "code",
      "metadata": {
        "colab": {
          "base_uri": "https://localhost:8080/"
        },
        "id": "9S_72yMXzsFF",
        "outputId": "b635ac4e-4fbe-4966-b022-b12e18094990"
      },
      "source": [
        "key = \"243698b82b8b412aae7273007e042153\"  # get api key from:  https://opencagedata.com\n",
        "\n",
        "geocoder = OpenCageGeocode(key)\n",
        "\n",
        "query = 'Caldas, Antioquia, Colombia'  \n",
        "\n",
        "results = geocoder.geocode(query)\n",
        "\n",
        "lat = results[0]['geometry']['lat']\n",
        "lng = results[0]['geometry']['lng']\n",
        "print (lat, lng)"
      ],
      "execution_count": null,
      "outputs": [
        {
          "output_type": "stream",
          "text": [
            "6.0516876 -75.6303582\n"
          ],
          "name": "stdout"
        }
      ]
    }
  ]
}